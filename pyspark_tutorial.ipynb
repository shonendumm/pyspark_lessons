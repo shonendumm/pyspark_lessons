{
  "nbformat": 4,
  "nbformat_minor": 0,
  "metadata": {
    "colab": {
      "provenance": [],
      "authorship_tag": "ABX9TyNtQO4tcww+rnafB80tLatm",
      "include_colab_link": true
    },
    "kernelspec": {
      "name": "python3",
      "display_name": "Python 3"
    },
    "language_info": {
      "name": "python"
    }
  },
  "cells": [
    {
      "cell_type": "markdown",
      "metadata": {
        "id": "view-in-github",
        "colab_type": "text"
      },
      "source": [
        "<a href=\"https://colab.research.google.com/github/shonendumm/pyspark_lessons/blob/main/pyspark_tutorial.ipynb\" target=\"_parent\"><img src=\"https://colab.research.google.com/assets/colab-badge.svg\" alt=\"Open In Colab\"/></a>"
      ]
    },
    {
      "cell_type": "code",
      "execution_count": 1,
      "metadata": {
        "colab": {
          "base_uri": "https://localhost:8080/"
        },
        "id": "v3twWuCdXVMR",
        "outputId": "2514f95d-0599-4190-98e9-09e60b7faa75"
      },
      "outputs": [
        {
          "output_type": "stream",
          "name": "stdout",
          "text": [
            "Collecting pyspark\n",
            "  Downloading pyspark-3.5.0.tar.gz (316.9 MB)\n",
            "\u001b[2K     \u001b[90m━━━━━━━━━━━━━━━━━━━━━━━━━━━━━━━━━━━━━━━━\u001b[0m \u001b[32m316.9/316.9 MB\u001b[0m \u001b[31m3.8 MB/s\u001b[0m eta \u001b[36m0:00:00\u001b[0m\n",
            "\u001b[?25h  Preparing metadata (setup.py) ... \u001b[?25l\u001b[?25hdone\n",
            "Requirement already satisfied: py4j==0.10.9.7 in /usr/local/lib/python3.10/dist-packages (from pyspark) (0.10.9.7)\n",
            "Building wheels for collected packages: pyspark\n",
            "  Building wheel for pyspark (setup.py) ... \u001b[?25l\u001b[?25hdone\n",
            "  Created wheel for pyspark: filename=pyspark-3.5.0-py2.py3-none-any.whl size=317425344 sha256=f0459d9c955a64502f76b2c964d73b43a6b40f2f78c73ef13825f79af6edded6\n",
            "  Stored in directory: /root/.cache/pip/wheels/41/4e/10/c2cf2467f71c678cfc8a6b9ac9241e5e44a01940da8fbb17fc\n",
            "Successfully built pyspark\n",
            "Installing collected packages: pyspark\n",
            "Successfully installed pyspark-3.5.0\n"
          ]
        }
      ],
      "source": [
        "!pip install pyspark\n"
      ]
    },
    {
      "cell_type": "markdown",
      "source": [
        "In Apache Spark, both SparkSession and SparkContext are important components, but they serve different purposes and have different scopes in the Spark application.\n",
        "\n",
        "**SparkContext:**\n",
        "The SparkContext is the entry point for low-level Spark functionality and represents the connection to a Spark cluster. It was the primary entry point in earlier versions of Spark.\n",
        "\n",
        "SparkContext is responsible for coordinating the execution of tasks across the cluster and managing the resources (e.g., memory, cores) for Spark applications.\n",
        "\n",
        "In modern Spark applications (Spark 2.0 and later), you typically don't create a SparkContext directly. Instead, it is automatically created for you when you create a SparkSession.\n",
        "\n",
        "**SparkSession:**\n",
        "The SparkSession is a higher-level API introduced in Spark 2.0 to provide a unified entry point for reading data, executing SQL queries, and managing Spark jobs.\n",
        "\n",
        "**SparkSession encapsulates SparkContext** and provides a single entry point for interacting with structured data using Spark. It includes **functionality for working with DataFrames and Datasets.**\n",
        "\n",
        "When you create a SparkSession, it automatically creates a SparkContext for you. Therefore, in Spark 2.0 and later, it's common to use SparkSession instead of directly working with SparkContext."
      ],
      "metadata": {
        "id": "9KYvN7yyZuxM"
      }
    },
    {
      "cell_type": "code",
      "source": [
        "import pyspark\n",
        "from pyspark.sql import SparkSession\n"
      ],
      "metadata": {
        "id": "0ViKS_76YE19"
      },
      "execution_count": 5,
      "outputs": []
    },
    {
      "cell_type": "code",
      "source": [
        "spark = SparkSession.builder.appName('tutorial').getOrCreate()"
      ],
      "metadata": {
        "id": "Os9pgtcpYGZI"
      },
      "execution_count": 6,
      "outputs": []
    },
    {
      "cell_type": "code",
      "source": [
        "df = spark.read.load(\"*.csv\", format='csv')"
      ],
      "metadata": {
        "id": "PHRGKOqHXept"
      },
      "execution_count": 8,
      "outputs": []
    },
    {
      "cell_type": "code",
      "source": [
        "df.show()"
      ],
      "metadata": {
        "colab": {
          "base_uri": "https://localhost:8080/"
        },
        "id": "6P3GhFhIYATs",
        "outputId": "ecdd0f55-6df4-4fc6-94cc-242ea81754e6"
      },
      "execution_count": 9,
      "outputs": [
        {
          "output_type": "stream",
          "name": "stdout",
          "text": [
            "+-------+---+----------+-------------------+--------------------+--------------------+---+---------+--------+\n",
            "|    _c0|_c1|       _c2|                _c3|                 _c4|                 _c5|_c6|      _c7|     _c8|\n",
            "+-------+---+----------+-------------------+--------------------+--------------------+---+---------+--------+\n",
            "|SO49171|  1|2021-01-01|      Mariah Foster|mariah21@adventur...|  Road-250 Black, 48|  1|2181.5625| 174.525|\n",
            "|SO49172|  1|2021-01-01|       Brian Howard|brian23@adventure...|    Road-250 Red, 44|  1|  2443.35| 195.468|\n",
            "|SO49173|  1|2021-01-01|      Linda Alvarez|linda19@adventure...|Mountain-200 Silv...|  1|2071.4196|165.7136|\n",
            "|SO49174|  1|2021-01-01|     Gina Hernandez|gina4@adventure-w...|Mountain-200 Silv...|  1|2071.4196|165.7136|\n",
            "|SO49178|  1|2021-01-01|          Beth Ruiz|beth4@adventure-w...|Road-550-W Yellow...|  1|1000.4375|  80.035|\n",
            "|SO49179|  1|2021-01-01|          Evan Ward|evan13@adventure-...|Road-550-W Yellow...|  1|1000.4375|  80.035|\n",
            "|SO49175|  1|2021-01-01|       Margaret Guo|margaret24@advent...|    Road-250 Red, 52|  1|  2443.35| 195.468|\n",
            "|SO49180|  1|2021-01-01|      Mitchell Yuan|mitchell6@adventu...|  Road-650 Black, 58|  1|   782.99| 62.6392|\n",
            "|SO49176|  1|2021-01-01|       Shawn Sharma|shawn11@adventure...|Mountain-200 Silv...|  1|2071.4196|165.7136|\n",
            "|SO49177|  1|2021-01-01|     Barbara Chande|barbara44@adventu...|Mountain-200 Silv...|  1|2071.4196|165.7136|\n",
            "|SO49186|  1|2021-01-02|            Cara Xu|cara8@adventure-w...|    Road-250 Red, 52|  1|  2443.35| 195.468|\n",
            "|SO49187|  1|2021-01-02|          Lacey Liu|lacey16@adventure...|  Road-250 Black, 58|  1|2181.5625| 174.525|\n",
            "|SO49190|  1|2021-01-02|           Omar Zhu|omar13@adventure-...|Road-550-W Yellow...|  1|1000.4375|  80.035|\n",
            "|SO49185|  1|2021-01-02|Cassandra Fernandez|cassandra17@adven...|Mountain-200 Blac...|  1|2049.0982|163.9279|\n",
            "|SO49184|  1|2021-01-02|    Monica Martinez|monica17@adventur...|Mountain-200 Blac...|  1|2049.0982|163.9279|\n",
            "|SO49189|  1|2021-01-02|     Marie Gonzalez|marie20@adventure...|  Road-650 Black, 48|  1|   782.99| 62.6392|\n",
            "|SO49182|  1|2021-01-02|     Alexandra Hall|alexandra89@adven...|    Road-250 Red, 48|  1|  2443.35| 195.468|\n",
            "|SO49183|  1|2021-01-02|     Alejandro Raji|alejandro46@adven...|    Road-250 Red, 52|  1|  2443.35| 195.468|\n",
            "|SO49181|  1|2021-01-02|    Derrick Jim�nez|derrick5@adventur...|  Road-250 Black, 48|  1|2181.5625| 174.525|\n",
            "|SO49188|  1|2021-01-02|           Erin Cox|erin15@adventure-...|Mountain-200 Blac...|  1|2049.0982|163.9279|\n",
            "+-------+---+----------+-------------------+--------------------+--------------------+---+---------+--------+\n",
            "only showing top 20 rows\n",
            "\n"
          ]
        }
      ]
    },
    {
      "cell_type": "code",
      "source": [
        "from pyspark.sql.types import *\n",
        "from pyspark.sql.functions import *\n",
        "\n",
        "orderSchema = StructType([\n",
        "     StructField(\"SalesOrderNumber\", StringType()),\n",
        "     StructField(\"SalesOrderLineNumber\", IntegerType()),\n",
        "     StructField(\"OrderDate\", DateType()),\n",
        "     StructField(\"CustomerName\", StringType()),\n",
        "     StructField(\"Email\", StringType()),\n",
        "     StructField(\"Item\", StringType()),\n",
        "     StructField(\"Quantity\", IntegerType()),\n",
        "     StructField(\"UnitPrice\", FloatType()),\n",
        "     StructField(\"Tax\", FloatType())\n",
        " ])\n",
        "\n",
        "df = spark.read.load('*.csv', format='csv', schema=orderSchema)\n",
        "df.show(20)"
      ],
      "metadata": {
        "colab": {
          "base_uri": "https://localhost:8080/"
        },
        "id": "ZQXx6zZpaF33",
        "outputId": "ace63dad-6958-45da-e55b-ec00e8c59f92"
      },
      "execution_count": 12,
      "outputs": [
        {
          "output_type": "stream",
          "name": "stdout",
          "text": [
            "+----------------+--------------------+----------+-------------------+--------------------+--------------------+--------+---------+--------+\n",
            "|SalesOrderNumber|SalesOrderLineNumber| OrderDate|       CustomerName|               Email|                Item|Quantity|UnitPrice|     Tax|\n",
            "+----------------+--------------------+----------+-------------------+--------------------+--------------------+--------+---------+--------+\n",
            "|         SO49171|                   1|2021-01-01|      Mariah Foster|mariah21@adventur...|  Road-250 Black, 48|       1|2181.5625| 174.525|\n",
            "|         SO49172|                   1|2021-01-01|       Brian Howard|brian23@adventure...|    Road-250 Red, 44|       1|  2443.35| 195.468|\n",
            "|         SO49173|                   1|2021-01-01|      Linda Alvarez|linda19@adventure...|Mountain-200 Silv...|       1|2071.4197|165.7136|\n",
            "|         SO49174|                   1|2021-01-01|     Gina Hernandez|gina4@adventure-w...|Mountain-200 Silv...|       1|2071.4197|165.7136|\n",
            "|         SO49178|                   1|2021-01-01|          Beth Ruiz|beth4@adventure-w...|Road-550-W Yellow...|       1|1000.4375|  80.035|\n",
            "|         SO49179|                   1|2021-01-01|          Evan Ward|evan13@adventure-...|Road-550-W Yellow...|       1|1000.4375|  80.035|\n",
            "|         SO49175|                   1|2021-01-01|       Margaret Guo|margaret24@advent...|    Road-250 Red, 52|       1|  2443.35| 195.468|\n",
            "|         SO49180|                   1|2021-01-01|      Mitchell Yuan|mitchell6@adventu...|  Road-650 Black, 58|       1|   782.99| 62.6392|\n",
            "|         SO49176|                   1|2021-01-01|       Shawn Sharma|shawn11@adventure...|Mountain-200 Silv...|       1|2071.4197|165.7136|\n",
            "|         SO49177|                   1|2021-01-01|     Barbara Chande|barbara44@adventu...|Mountain-200 Silv...|       1|2071.4197|165.7136|\n",
            "|         SO49186|                   1|2021-01-02|            Cara Xu|cara8@adventure-w...|    Road-250 Red, 52|       1|  2443.35| 195.468|\n",
            "|         SO49187|                   1|2021-01-02|          Lacey Liu|lacey16@adventure...|  Road-250 Black, 58|       1|2181.5625| 174.525|\n",
            "|         SO49190|                   1|2021-01-02|           Omar Zhu|omar13@adventure-...|Road-550-W Yellow...|       1|1000.4375|  80.035|\n",
            "|         SO49185|                   1|2021-01-02|Cassandra Fernandez|cassandra17@adven...|Mountain-200 Blac...|       1|2049.0981|163.9279|\n",
            "|         SO49184|                   1|2021-01-02|    Monica Martinez|monica17@adventur...|Mountain-200 Blac...|       1|2049.0981|163.9279|\n",
            "|         SO49189|                   1|2021-01-02|     Marie Gonzalez|marie20@adventure...|  Road-650 Black, 48|       1|   782.99| 62.6392|\n",
            "|         SO49182|                   1|2021-01-02|     Alexandra Hall|alexandra89@adven...|    Road-250 Red, 48|       1|  2443.35| 195.468|\n",
            "|         SO49183|                   1|2021-01-02|     Alejandro Raji|alejandro46@adven...|    Road-250 Red, 52|       1|  2443.35| 195.468|\n",
            "|         SO49181|                   1|2021-01-02|    Derrick Jim�nez|derrick5@adventur...|  Road-250 Black, 48|       1|2181.5625| 174.525|\n",
            "|         SO49188|                   1|2021-01-02|           Erin Cox|erin15@adventure-...|Mountain-200 Blac...|       1|2049.0981|163.9279|\n",
            "+----------------+--------------------+----------+-------------------+--------------------+--------------------+--------+---------+--------+\n",
            "only showing top 20 rows\n",
            "\n"
          ]
        }
      ]
    },
    {
      "cell_type": "code",
      "source": [
        "df.printSchema()"
      ],
      "metadata": {
        "colab": {
          "base_uri": "https://localhost:8080/"
        },
        "id": "BqwJy12MaM92",
        "outputId": "32ce4c77-3138-4ff8-e5f9-0d4d0af9307c"
      },
      "execution_count": 13,
      "outputs": [
        {
          "output_type": "stream",
          "name": "stdout",
          "text": [
            "root\n",
            " |-- SalesOrderNumber: string (nullable = true)\n",
            " |-- SalesOrderLineNumber: integer (nullable = true)\n",
            " |-- OrderDate: date (nullable = true)\n",
            " |-- CustomerName: string (nullable = true)\n",
            " |-- Email: string (nullable = true)\n",
            " |-- Item: string (nullable = true)\n",
            " |-- Quantity: integer (nullable = true)\n",
            " |-- UnitPrice: float (nullable = true)\n",
            " |-- Tax: float (nullable = true)\n",
            "\n"
          ]
        }
      ]
    },
    {
      "cell_type": "code",
      "source": [],
      "metadata": {
        "id": "XJkxCZ4iacRk"
      },
      "execution_count": null,
      "outputs": []
    }
  ]
}